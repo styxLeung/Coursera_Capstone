{
    "nbformat_minor": 1, 
    "cells": [
        {
            "source": "import requests # library to handle requests\nimport lxml.html as lh\nimport bs4 as bs\nimport urllib.request\n\nimport numpy as np # library to handle data in a vectorized manner\nimport pandas as pd # library for data analsysis", 
            "cell_type": "code", 
            "execution_count": 1, 
            "outputs": [], 
            "metadata": {}
        }, 
        {
            "source": "url   = \"https://en.wikipedia.org/wiki/List_of_postal_codes_of_Canada:_M\"", 
            "cell_type": "code", 
            "execution_count": 2, 
            "outputs": [], 
            "metadata": {}
        }, 
        {
            "source": "Python BeautifulSoup - python library for pulling data out of HTML and XML files", 
            "cell_type": "markdown", 
            "metadata": {}
        }, 
        {
            "source": "Python lxml - simmilar library that supports scraping with xpath", 
            "cell_type": "markdown", 
            "metadata": {}
        }, 
        {
            "source": "def scrape_table_bs4(cname,cols):\n    page  = urllib.request.urlopen(url).read()\n    soup  = bs.BeautifulSoup(page,'lxml')\n    table = soup.find(\"table\",class_=cname)\n    header = [head.findAll(text=True)[0].strip() for head in table.find_all(\"th\")]\n    data   = [[td.findAll(text=True)[0].strip() for td in tr.find_all(\"td\")]\n              for tr in table.find_all(\"tr\")]\n    data    = [row for row in data if len(row) == cols]\n    # Store data to this temporary dataframe\n    raw_df = pd.DataFrame(data,columns=header)\n    return raw_df", 
            "cell_type": "code", 
            "execution_count": 3, 
            "outputs": [], 
            "metadata": {}
        }, 
        {
            "source": "def scrape_table_lxml(XPATH,cols):\n    page = requests.get(url)\n    doc = lh.fromstring(page.content)\n    table_content = doc.xpath(XPATH)\n    for table in table_content:\n        headers = [th.text_content().strip() for th in table.xpath('//th')]\n        headers = headers[0:3]\n        data    = [[td.text_content().strip() for td in tr.xpath('td')] \n                   for tr in table.xpath('//tbody/tr')]\n        data    = [row for row in data if len(row) == cols]\n        raw_df = pd.DataFrame(data,columns=headers)\n        return raw_df", 
            "cell_type": "code", 
            "execution_count": 4, 
            "outputs": [], 
            "metadata": {}
        }, 
        {
            "source": "raw_TorontoPostalCodes = scrape_table_bs4(\"wikitable\",3)\nprint(\"# Toronto Postal codes stored in data\")\nprint(raw_TorontoPostalCodes.info(verbose=True))", 
            "cell_type": "code", 
            "execution_count": 5, 
            "outputs": [
                {
                    "output_type": "stream", 
                    "name": "stdout", 
                    "text": "# Toronto Postal codes stored in data\n<class 'pandas.core.frame.DataFrame'>\nRangeIndex: 288 entries, 0 to 287\nData columns (total 3 columns):\nPostcode         288 non-null object\nBorough          288 non-null object\nNeighbourhood    288 non-null object\ndtypes: object(3)\nmemory usage: 6.8+ KB\nNone\n"
                }
            ], 
            "metadata": {}
        }, 
        {
            "source": "TorontoPostalCodes=raw_TorontoPostalCodes[~raw_TorontoPostalCodes['Borough'].isin(['Not assigned'])]\nTorontoPostalCodes=TorontoPostalCodes.sort_values(by=['Postcode','Borough','Neighbourhood'], ascending=[1,1,1]).reset_index(drop=True)", 
            "cell_type": "code", 
            "execution_count": 7, 
            "outputs": [], 
            "metadata": {}
        }, 
        {
            "source": "TorontoPostalCodes.loc[TorontoPostalCodes['Neighbourhood'] == 'Not assigned', ['Neighbourhood']] = TorontoPostalCodes['Borough']\ncheck_unassigned_post_state_sample = TorontoPostalCodes.loc[TorontoPostalCodes['Borough'] == 'Queen\\'s Park']", 
            "cell_type": "code", 
            "execution_count": 8, 
            "outputs": [], 
            "metadata": {}
        }, 
        {
            "source": "TorontoPostalCodes", 
            "cell_type": "code", 
            "execution_count": 9, 
            "outputs": [
                {
                    "output_type": "execute_result", 
                    "metadata": {}, 
                    "data": {
                        "text/html": "<div>\n<style scoped>\n    .dataframe tbody tr th:only-of-type {\n        vertical-align: middle;\n    }\n\n    .dataframe tbody tr th {\n        vertical-align: top;\n    }\n\n    .dataframe thead th {\n        text-align: right;\n    }\n</style>\n<table border=\"1\" class=\"dataframe\">\n  <thead>\n    <tr style=\"text-align: right;\">\n      <th></th>\n      <th>Postcode</th>\n      <th>Borough</th>\n      <th>Neighbourhood</th>\n    </tr>\n  </thead>\n  <tbody>\n    <tr>\n      <th>0</th>\n      <td>M1B</td>\n      <td>Scarborough</td>\n      <td>Malvern</td>\n    </tr>\n    <tr>\n      <th>1</th>\n      <td>M1B</td>\n      <td>Scarborough</td>\n      <td>Rouge</td>\n    </tr>\n    <tr>\n      <th>2</th>\n      <td>M1C</td>\n      <td>Scarborough</td>\n      <td>Highland Creek</td>\n    </tr>\n    <tr>\n      <th>3</th>\n      <td>M1C</td>\n      <td>Scarborough</td>\n      <td>Port Union</td>\n    </tr>\n    <tr>\n      <th>4</th>\n      <td>M1C</td>\n      <td>Scarborough</td>\n      <td>Rouge Hill</td>\n    </tr>\n    <tr>\n      <th>5</th>\n      <td>M1E</td>\n      <td>Scarborough</td>\n      <td>Guildwood</td>\n    </tr>\n    <tr>\n      <th>6</th>\n      <td>M1E</td>\n      <td>Scarborough</td>\n      <td>Morningside</td>\n    </tr>\n    <tr>\n      <th>7</th>\n      <td>M1E</td>\n      <td>Scarborough</td>\n      <td>West Hill</td>\n    </tr>\n    <tr>\n      <th>8</th>\n      <td>M1G</td>\n      <td>Scarborough</td>\n      <td>Woburn</td>\n    </tr>\n    <tr>\n      <th>9</th>\n      <td>M1H</td>\n      <td>Scarborough</td>\n      <td>Cedarbrae</td>\n    </tr>\n    <tr>\n      <th>10</th>\n      <td>M1J</td>\n      <td>Scarborough</td>\n      <td>Scarborough Village</td>\n    </tr>\n    <tr>\n      <th>11</th>\n      <td>M1K</td>\n      <td>Scarborough</td>\n      <td>East Birchmount Park</td>\n    </tr>\n    <tr>\n      <th>12</th>\n      <td>M1K</td>\n      <td>Scarborough</td>\n      <td>Ionview</td>\n    </tr>\n    <tr>\n      <th>13</th>\n      <td>M1K</td>\n      <td>Scarborough</td>\n      <td>Kennedy Park</td>\n    </tr>\n    <tr>\n      <th>14</th>\n      <td>M1L</td>\n      <td>Scarborough</td>\n      <td>Clairlea</td>\n    </tr>\n    <tr>\n      <th>15</th>\n      <td>M1L</td>\n      <td>Scarborough</td>\n      <td>Golden Mile</td>\n    </tr>\n    <tr>\n      <th>16</th>\n      <td>M1L</td>\n      <td>Scarborough</td>\n      <td>Oakridge</td>\n    </tr>\n    <tr>\n      <th>17</th>\n      <td>M1M</td>\n      <td>Scarborough</td>\n      <td>Cliffcrest</td>\n    </tr>\n    <tr>\n      <th>18</th>\n      <td>M1M</td>\n      <td>Scarborough</td>\n      <td>Cliffside</td>\n    </tr>\n    <tr>\n      <th>19</th>\n      <td>M1M</td>\n      <td>Scarborough</td>\n      <td>Scarborough Village West</td>\n    </tr>\n    <tr>\n      <th>20</th>\n      <td>M1N</td>\n      <td>Scarborough</td>\n      <td>Birch Cliff</td>\n    </tr>\n    <tr>\n      <th>21</th>\n      <td>M1N</td>\n      <td>Scarborough</td>\n      <td>Cliffside West</td>\n    </tr>\n    <tr>\n      <th>22</th>\n      <td>M1P</td>\n      <td>Scarborough</td>\n      <td>Dorset Park</td>\n    </tr>\n    <tr>\n      <th>23</th>\n      <td>M1P</td>\n      <td>Scarborough</td>\n      <td>Scarborough Town Centre</td>\n    </tr>\n    <tr>\n      <th>24</th>\n      <td>M1P</td>\n      <td>Scarborough</td>\n      <td>Wexford Heights</td>\n    </tr>\n    <tr>\n      <th>25</th>\n      <td>M1R</td>\n      <td>Scarborough</td>\n      <td>Maryvale</td>\n    </tr>\n    <tr>\n      <th>26</th>\n      <td>M1R</td>\n      <td>Scarborough</td>\n      <td>Wexford</td>\n    </tr>\n    <tr>\n      <th>27</th>\n      <td>M1S</td>\n      <td>Scarborough</td>\n      <td>Agincourt</td>\n    </tr>\n    <tr>\n      <th>28</th>\n      <td>M1T</td>\n      <td>Scarborough</td>\n      <td>Clarks Corners</td>\n    </tr>\n    <tr>\n      <th>29</th>\n      <td>M1T</td>\n      <td>Scarborough</td>\n      <td>Sullivan</td>\n    </tr>\n    <tr>\n      <th>...</th>\n      <td>...</td>\n      <td>...</td>\n      <td>...</td>\n    </tr>\n    <tr>\n      <th>181</th>\n      <td>M8Z</td>\n      <td>Etobicoke</td>\n      <td>South of Bloor</td>\n    </tr>\n    <tr>\n      <th>182</th>\n      <td>M8Z</td>\n      <td>Etobicoke</td>\n      <td>The Queensway West</td>\n    </tr>\n    <tr>\n      <th>183</th>\n      <td>M9A</td>\n      <td>Etobicoke</td>\n      <td>Islington Avenue</td>\n    </tr>\n    <tr>\n      <th>184</th>\n      <td>M9B</td>\n      <td>Etobicoke</td>\n      <td>Cloverdale</td>\n    </tr>\n    <tr>\n      <th>185</th>\n      <td>M9B</td>\n      <td>Etobicoke</td>\n      <td>Islington</td>\n    </tr>\n    <tr>\n      <th>186</th>\n      <td>M9B</td>\n      <td>Etobicoke</td>\n      <td>Martin Grove</td>\n    </tr>\n    <tr>\n      <th>187</th>\n      <td>M9B</td>\n      <td>Etobicoke</td>\n      <td>Princess Gardens</td>\n    </tr>\n    <tr>\n      <th>188</th>\n      <td>M9B</td>\n      <td>Etobicoke</td>\n      <td>West Deane Park</td>\n    </tr>\n    <tr>\n      <th>189</th>\n      <td>M9C</td>\n      <td>Etobicoke</td>\n      <td>Bloordale Gardens</td>\n    </tr>\n    <tr>\n      <th>190</th>\n      <td>M9C</td>\n      <td>Etobicoke</td>\n      <td>Eringate</td>\n    </tr>\n    <tr>\n      <th>191</th>\n      <td>M9C</td>\n      <td>Etobicoke</td>\n      <td>Markland Wood</td>\n    </tr>\n    <tr>\n      <th>192</th>\n      <td>M9C</td>\n      <td>Etobicoke</td>\n      <td>Old Burnhamthorpe</td>\n    </tr>\n    <tr>\n      <th>193</th>\n      <td>M9L</td>\n      <td>North York</td>\n      <td>Humber Summit</td>\n    </tr>\n    <tr>\n      <th>194</th>\n      <td>M9M</td>\n      <td>North York</td>\n      <td>Emery</td>\n    </tr>\n    <tr>\n      <th>195</th>\n      <td>M9M</td>\n      <td>North York</td>\n      <td>Humberlea</td>\n    </tr>\n    <tr>\n      <th>196</th>\n      <td>M9N</td>\n      <td>York</td>\n      <td>Weston</td>\n    </tr>\n    <tr>\n      <th>197</th>\n      <td>M9P</td>\n      <td>Etobicoke</td>\n      <td>Westmount</td>\n    </tr>\n    <tr>\n      <th>198</th>\n      <td>M9R</td>\n      <td>Etobicoke</td>\n      <td>Kingsview Village</td>\n    </tr>\n    <tr>\n      <th>199</th>\n      <td>M9R</td>\n      <td>Etobicoke</td>\n      <td>Martin Grove Gardens</td>\n    </tr>\n    <tr>\n      <th>200</th>\n      <td>M9R</td>\n      <td>Etobicoke</td>\n      <td>Richview Gardens</td>\n    </tr>\n    <tr>\n      <th>201</th>\n      <td>M9R</td>\n      <td>Etobicoke</td>\n      <td>St. Phillips</td>\n    </tr>\n    <tr>\n      <th>202</th>\n      <td>M9V</td>\n      <td>Etobicoke</td>\n      <td>Albion Gardens</td>\n    </tr>\n    <tr>\n      <th>203</th>\n      <td>M9V</td>\n      <td>Etobicoke</td>\n      <td>Beaumond Heights</td>\n    </tr>\n    <tr>\n      <th>204</th>\n      <td>M9V</td>\n      <td>Etobicoke</td>\n      <td>Humbergate</td>\n    </tr>\n    <tr>\n      <th>205</th>\n      <td>M9V</td>\n      <td>Etobicoke</td>\n      <td>Jamestown</td>\n    </tr>\n    <tr>\n      <th>206</th>\n      <td>M9V</td>\n      <td>Etobicoke</td>\n      <td>Mount Olive</td>\n    </tr>\n    <tr>\n      <th>207</th>\n      <td>M9V</td>\n      <td>Etobicoke</td>\n      <td>Silverstone</td>\n    </tr>\n    <tr>\n      <th>208</th>\n      <td>M9V</td>\n      <td>Etobicoke</td>\n      <td>South Steeles</td>\n    </tr>\n    <tr>\n      <th>209</th>\n      <td>M9V</td>\n      <td>Etobicoke</td>\n      <td>Thistletown</td>\n    </tr>\n    <tr>\n      <th>210</th>\n      <td>M9W</td>\n      <td>Etobicoke</td>\n      <td>Northwest</td>\n    </tr>\n  </tbody>\n</table>\n<p>211 rows \u00d7 3 columns</p>\n</div>", 
                        "text/plain": "    Postcode      Borough             Neighbourhood\n0        M1B  Scarborough                   Malvern\n1        M1B  Scarborough                     Rouge\n2        M1C  Scarborough            Highland Creek\n3        M1C  Scarborough                Port Union\n4        M1C  Scarborough                Rouge Hill\n5        M1E  Scarborough                 Guildwood\n6        M1E  Scarborough               Morningside\n7        M1E  Scarborough                 West Hill\n8        M1G  Scarborough                    Woburn\n9        M1H  Scarborough                 Cedarbrae\n10       M1J  Scarborough       Scarborough Village\n11       M1K  Scarborough      East Birchmount Park\n12       M1K  Scarborough                   Ionview\n13       M1K  Scarborough              Kennedy Park\n14       M1L  Scarborough                  Clairlea\n15       M1L  Scarborough               Golden Mile\n16       M1L  Scarborough                  Oakridge\n17       M1M  Scarborough                Cliffcrest\n18       M1M  Scarborough                 Cliffside\n19       M1M  Scarborough  Scarborough Village West\n20       M1N  Scarborough               Birch Cliff\n21       M1N  Scarborough            Cliffside West\n22       M1P  Scarborough               Dorset Park\n23       M1P  Scarborough   Scarborough Town Centre\n24       M1P  Scarborough           Wexford Heights\n25       M1R  Scarborough                  Maryvale\n26       M1R  Scarborough                   Wexford\n27       M1S  Scarborough                 Agincourt\n28       M1T  Scarborough            Clarks Corners\n29       M1T  Scarborough                  Sullivan\n..       ...          ...                       ...\n181      M8Z    Etobicoke            South of Bloor\n182      M8Z    Etobicoke        The Queensway West\n183      M9A    Etobicoke          Islington Avenue\n184      M9B    Etobicoke                Cloverdale\n185      M9B    Etobicoke                 Islington\n186      M9B    Etobicoke              Martin Grove\n187      M9B    Etobicoke          Princess Gardens\n188      M9B    Etobicoke           West Deane Park\n189      M9C    Etobicoke         Bloordale Gardens\n190      M9C    Etobicoke                  Eringate\n191      M9C    Etobicoke             Markland Wood\n192      M9C    Etobicoke         Old Burnhamthorpe\n193      M9L   North York             Humber Summit\n194      M9M   North York                     Emery\n195      M9M   North York                 Humberlea\n196      M9N         York                    Weston\n197      M9P    Etobicoke                 Westmount\n198      M9R    Etobicoke         Kingsview Village\n199      M9R    Etobicoke      Martin Grove Gardens\n200      M9R    Etobicoke          Richview Gardens\n201      M9R    Etobicoke              St. Phillips\n202      M9V    Etobicoke            Albion Gardens\n203      M9V    Etobicoke          Beaumond Heights\n204      M9V    Etobicoke                Humbergate\n205      M9V    Etobicoke                 Jamestown\n206      M9V    Etobicoke               Mount Olive\n207      M9V    Etobicoke               Silverstone\n208      M9V    Etobicoke             South Steeles\n209      M9V    Etobicoke               Thistletown\n210      M9W    Etobicoke                 Northwest\n\n[211 rows x 3 columns]"
                    }, 
                    "execution_count": 9
                }
            ], 
            "metadata": {}
        }, 
        {
            "source": "TorontoPostalCodes.shape", 
            "cell_type": "code", 
            "execution_count": 10, 
            "outputs": [
                {
                    "output_type": "execute_result", 
                    "metadata": {}, 
                    "data": {
                        "text/plain": "(211, 3)"
                    }, 
                    "execution_count": 10
                }
            ], 
            "metadata": {}
        }, 
        {
            "source": "TorontoPostalCodes.to_csv('Toronto.TASK_1_df.csv',index=False)", 
            "cell_type": "code", 
            "execution_count": 11, 
            "outputs": [], 
            "metadata": {}
        }, 
        {
            "source": "", 
            "cell_type": "code", 
            "execution_count": null, 
            "outputs": [], 
            "metadata": {}
        }
    ], 
    "nbformat": 4, 
    "metadata": {
        "kernelspec": {
            "display_name": "Python 3.6", 
            "name": "python3", 
            "language": "python"
        }, 
        "language_info": {
            "mimetype": "text/x-python", 
            "nbconvert_exporter": "python", 
            "version": "3.6.8", 
            "name": "python", 
            "pygments_lexer": "ipython3", 
            "file_extension": ".py", 
            "codemirror_mode": {
                "version": 3, 
                "name": "ipython"
            }
        }
    }
}