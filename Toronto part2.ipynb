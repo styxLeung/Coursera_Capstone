{
    "nbformat_minor": 1, 
    "cells": [
        {
            "source": "import numpy as np # library to handle data in a vectorized manner\nimport pandas as pd # library for data analsysis", 
            "cell_type": "code", 
            "execution_count": 1, 
            "outputs": [], 
            "metadata": {}
        }, 
        {
            "source": "task1_data_csv = \"Toronto.TASK_1_df.csv\"\nTorontoPostalCodes = pd.read_csv(task1_data_csv).set_index(\"Postcode\")\nTorontoPostalCodes.rename_axis(\"Postal Code\", axis='index', inplace=True)\nTorontoPostalCodes.head()", 
            "cell_type": "code", 
            "execution_count": 3, 
            "outputs": [
                {
                    "output_type": "execute_result", 
                    "metadata": {}, 
                    "data": {
                        "text/html": "<div>\n<style scoped>\n    .dataframe tbody tr th:only-of-type {\n        vertical-align: middle;\n    }\n\n    .dataframe tbody tr th {\n        vertical-align: top;\n    }\n\n    .dataframe thead th {\n        text-align: right;\n    }\n</style>\n<table border=\"1\" class=\"dataframe\">\n  <thead>\n    <tr style=\"text-align: right;\">\n      <th></th>\n      <th>Borough</th>\n      <th>Neighbourhood</th>\n    </tr>\n    <tr>\n      <th>Postal Code</th>\n      <th></th>\n      <th></th>\n    </tr>\n  </thead>\n  <tbody>\n    <tr>\n      <th>M1B</th>\n      <td>Scarborough</td>\n      <td>Malvern</td>\n    </tr>\n    <tr>\n      <th>M1B</th>\n      <td>Scarborough</td>\n      <td>Rouge</td>\n    </tr>\n    <tr>\n      <th>M1C</th>\n      <td>Scarborough</td>\n      <td>Highland Creek</td>\n    </tr>\n    <tr>\n      <th>M1C</th>\n      <td>Scarborough</td>\n      <td>Port Union</td>\n    </tr>\n    <tr>\n      <th>M1C</th>\n      <td>Scarborough</td>\n      <td>Rouge Hill</td>\n    </tr>\n  </tbody>\n</table>\n</div>", 
                        "text/plain": "                 Borough   Neighbourhood\nPostal Code                             \nM1B          Scarborough         Malvern\nM1B          Scarborough           Rouge\nM1C          Scarborough  Highland Creek\nM1C          Scarborough      Port Union\nM1C          Scarborough      Rouge Hill"
                    }, 
                    "execution_count": 3
                }
            ], 
            "metadata": {}
        }, 
        {
            "source": "toronto_geocsv = 'https://cocl.us/Geospatial_data'\n!wget -q -O 'toronto_m.geospatial_data.csv' toronto_geocsv\ngeocsv_data = pd.read_csv(toronto_geocsv).set_index(\"Postal Code\")\ngeocsv_data.head()", 
            "cell_type": "code", 
            "execution_count": 4, 
            "outputs": [
                {
                    "output_type": "execute_result", 
                    "metadata": {}, 
                    "data": {
                        "text/html": "<div>\n<style scoped>\n    .dataframe tbody tr th:only-of-type {\n        vertical-align: middle;\n    }\n\n    .dataframe tbody tr th {\n        vertical-align: top;\n    }\n\n    .dataframe thead th {\n        text-align: right;\n    }\n</style>\n<table border=\"1\" class=\"dataframe\">\n  <thead>\n    <tr style=\"text-align: right;\">\n      <th></th>\n      <th>Latitude</th>\n      <th>Longitude</th>\n    </tr>\n    <tr>\n      <th>Postal Code</th>\n      <th></th>\n      <th></th>\n    </tr>\n  </thead>\n  <tbody>\n    <tr>\n      <th>M1B</th>\n      <td>43.806686</td>\n      <td>-79.194353</td>\n    </tr>\n    <tr>\n      <th>M1C</th>\n      <td>43.784535</td>\n      <td>-79.160497</td>\n    </tr>\n    <tr>\n      <th>M1E</th>\n      <td>43.763573</td>\n      <td>-79.188711</td>\n    </tr>\n    <tr>\n      <th>M1G</th>\n      <td>43.770992</td>\n      <td>-79.216917</td>\n    </tr>\n    <tr>\n      <th>M1H</th>\n      <td>43.773136</td>\n      <td>-79.239476</td>\n    </tr>\n  </tbody>\n</table>\n</div>", 
                        "text/plain": "              Latitude  Longitude\nPostal Code                      \nM1B          43.806686 -79.194353\nM1C          43.784535 -79.160497\nM1E          43.763573 -79.188711\nM1G          43.770992 -79.216917\nM1H          43.773136 -79.239476"
                    }, 
                    "execution_count": 4
                }
            ], 
            "metadata": {}
        }, 
        {
            "source": "toronto_neighborhoods = TorontoPostalCodes.join(geocsv_data)\ntoronto_neighborhoods.head()", 
            "cell_type": "code", 
            "execution_count": 5, 
            "outputs": [
                {
                    "output_type": "execute_result", 
                    "metadata": {}, 
                    "data": {
                        "text/html": "<div>\n<style scoped>\n    .dataframe tbody tr th:only-of-type {\n        vertical-align: middle;\n    }\n\n    .dataframe tbody tr th {\n        vertical-align: top;\n    }\n\n    .dataframe thead th {\n        text-align: right;\n    }\n</style>\n<table border=\"1\" class=\"dataframe\">\n  <thead>\n    <tr style=\"text-align: right;\">\n      <th></th>\n      <th>Borough</th>\n      <th>Neighbourhood</th>\n      <th>Latitude</th>\n      <th>Longitude</th>\n    </tr>\n    <tr>\n      <th>Postal Code</th>\n      <th></th>\n      <th></th>\n      <th></th>\n      <th></th>\n    </tr>\n  </thead>\n  <tbody>\n    <tr>\n      <th>M1B</th>\n      <td>Scarborough</td>\n      <td>Malvern</td>\n      <td>43.806686</td>\n      <td>-79.194353</td>\n    </tr>\n    <tr>\n      <th>M1B</th>\n      <td>Scarborough</td>\n      <td>Rouge</td>\n      <td>43.806686</td>\n      <td>-79.194353</td>\n    </tr>\n    <tr>\n      <th>M1C</th>\n      <td>Scarborough</td>\n      <td>Highland Creek</td>\n      <td>43.784535</td>\n      <td>-79.160497</td>\n    </tr>\n    <tr>\n      <th>M1C</th>\n      <td>Scarborough</td>\n      <td>Port Union</td>\n      <td>43.784535</td>\n      <td>-79.160497</td>\n    </tr>\n    <tr>\n      <th>M1C</th>\n      <td>Scarborough</td>\n      <td>Rouge Hill</td>\n      <td>43.784535</td>\n      <td>-79.160497</td>\n    </tr>\n  </tbody>\n</table>\n</div>", 
                        "text/plain": "                 Borough   Neighbourhood   Latitude  Longitude\nPostal Code                                                   \nM1B          Scarborough         Malvern  43.806686 -79.194353\nM1B          Scarborough           Rouge  43.806686 -79.194353\nM1C          Scarborough  Highland Creek  43.784535 -79.160497\nM1C          Scarborough      Port Union  43.784535 -79.160497\nM1C          Scarborough      Rouge Hill  43.784535 -79.160497"
                    }, 
                    "execution_count": 5
                }
            ], 
            "metadata": {}
        }, 
        {
            "source": "toronto_neighborhoods.to_csv('Toronto.TASK_II_df.csv',index=False)", 
            "cell_type": "code", 
            "execution_count": 6, 
            "outputs": [], 
            "metadata": {}
        }, 
        {
            "source": "toronto_neighborhoods.shape", 
            "cell_type": "code", 
            "execution_count": 7, 
            "outputs": [
                {
                    "output_type": "execute_result", 
                    "metadata": {}, 
                    "data": {
                        "text/plain": "(211, 4)"
                    }, 
                    "execution_count": 7
                }
            ], 
            "metadata": {}
        }, 
        {
            "source": "", 
            "cell_type": "code", 
            "execution_count": null, 
            "outputs": [], 
            "metadata": {}
        }
    ], 
    "nbformat": 4, 
    "metadata": {
        "kernelspec": {
            "display_name": "Python 3.6", 
            "name": "python3", 
            "language": "python"
        }, 
        "language_info": {
            "mimetype": "text/x-python", 
            "nbconvert_exporter": "python", 
            "version": "3.6.8", 
            "name": "python", 
            "pygments_lexer": "ipython3", 
            "file_extension": ".py", 
            "codemirror_mode": {
                "version": 3, 
                "name": "ipython"
            }
        }
    }
}